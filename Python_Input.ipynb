{
 "cells": [
  {
   "cell_type": "code",
   "execution_count": 2,
   "id": "2fda0c2c-af86-4025-948a-6e68ffd14ebe",
   "metadata": {},
   "outputs": [],
   "source": [
    "def GetDataFromUser():\n",
    "    D ={}\n",
    "    while True:\n",
    "         stud_id =input(\"Enter student ID:\")\n",
    "         MarksList =input(\"Enter the marks by csv\")\n",
    "         moreStudents = input('Enter \"no\" to Quit:')\n",
    "         if stud_id in D:\n",
    "             print(\"Student already exists\")\n",
    "         else:\n",
    "             D[stud_id] =MarksList.split(\",\")\n",
    "             if moreStudents.lower() ==\"no\":\n",
    "                 return D\n",
    "\n"
   ]
  },
  {
   "cell_type": "code",
   "execution_count": 3,
   "id": "49c7bcb5-3fe1-4784-9c3e-ac088983eceb",
   "metadata": {},
   "outputs": [
    {
     "name": "stdin",
     "output_type": "stream",
     "text": [
      "Enter student ID: 50\n",
      "Enter the marks by csv 60,70,80,65\n",
      "Enter \"no\" to Quit: b\n",
      "Enter student ID: 50\n",
      "Enter the marks by csv 78,90,56,54,56\n",
      "Enter \"no\" to Quit: no\n"
     ]
    },
    {
     "name": "stdout",
     "output_type": "stream",
     "text": [
      "Student already exists\n"
     ]
    },
    {
     "name": "stdin",
     "output_type": "stream",
     "text": [
      "Enter student ID: 56\n",
      "Enter the marks by csv 70,89,76,50\n",
      "Enter \"no\" to Quit: no\n"
     ]
    }
   ],
   "source": [
    "stud_data = GetDataFromUser()"
   ]
  },
  {
   "cell_type": "code",
   "execution_count": 4,
   "id": "b136915f-edb0-49b0-9561-e5687dd7243c",
   "metadata": {},
   "outputs": [
    {
     "data": {
      "text/plain": [
       "{'50': ['60', '70', '80', '65'], '56': ['70', '89', '76', '50']}"
      ]
     },
     "execution_count": 4,
     "metadata": {},
     "output_type": "execute_result"
    }
   ],
   "source": [
    "stud_data"
   ]
  },
  {
   "cell_type": "code",
   "execution_count": 25,
   "id": "93a08493-5e19-4090-a557-e33e2dad781b",
   "metadata": {},
   "outputs": [],
   "source": [
    "def getavgMarks(D):\n",
    "    avgMarks ={}\n",
    "    for i in D:\n",
    "     L  =D[i]\n",
    "    s =0\n",
    "    for marks in L:\n",
    "        s += int(marks)\n",
    "        avgMarks[i] = s/len(L)\n",
    "    return avgMarks\n"
   ]
  },
  {
   "cell_type": "code",
   "execution_count": 26,
   "id": "9c0b5590-30da-4636-81c9-bd5eee9bf6cd",
   "metadata": {},
   "outputs": [],
   "source": [
    "avgM = getavgMarks(stud_data)"
   ]
  },
  {
   "cell_type": "code",
   "execution_count": 27,
   "id": "6a0c6b70-751d-47a3-832e-3e92666b198e",
   "metadata": {},
   "outputs": [
    {
     "data": {
      "text/plain": [
       "{'56': 71.25}"
      ]
     },
     "execution_count": 27,
     "metadata": {},
     "output_type": "execute_result"
    }
   ],
   "source": [
    "avgM"
   ]
  },
  {
   "cell_type": "code",
   "execution_count": 28,
   "id": "3f131d16-4d5f-45a7-8e10-7d0cf92a5967",
   "metadata": {},
   "outputs": [
    {
     "name": "stdout",
     "output_type": "stream",
     "text": [
      "Student_ID: 56 got average marks as: 71.25\n"
     ]
    }
   ],
   "source": [
    "for i in avgM:\n",
    "    print(\"Student_ID:\", i, \"got average marks as:\", avgM[i])\n"
   ]
  },
  {
   "cell_type": "code",
   "execution_count": null,
   "id": "e5de61c7-2c1f-472e-8616-6ad9b678080a",
   "metadata": {},
   "outputs": [],
   "source": []
  }
 ],
 "metadata": {
  "kernelspec": {
   "display_name": "Python 3 (ipykernel)",
   "language": "python",
   "name": "python3"
  },
  "language_info": {
   "codemirror_mode": {
    "name": "ipython",
    "version": 3
   },
   "file_extension": ".py",
   "mimetype": "text/x-python",
   "name": "python",
   "nbconvert_exporter": "python",
   "pygments_lexer": "ipython3",
   "version": "3.12.0"
  }
 },
 "nbformat": 4,
 "nbformat_minor": 5
}
